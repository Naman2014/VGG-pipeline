{
 "cells": [
  {
   "cell_type": "code",
   "execution_count": null,
   "metadata": {},
   "outputs": [],
   "source": [
    "import torch\n",
    "from ultralytics import YOLO\n",
    "import matplotlib.pyplot as plt\n",
    "import cv2\n",
    "import numpy as np\n",
    "import glob"
   ]
  },
  {
   "cell_type": "code",
   "execution_count": null,
   "metadata": {},
   "outputs": [],
   "source": [
    "# define model path\n",
    "model_path = 'best (1).pt'\n",
    "model = YOLO(model_path)"
   ]
  },
  {
   "cell_type": "code",
   "execution_count": null,
   "metadata": {},
   "outputs": [],
   "source": [
    "\n",
    "# Define your input, output, and mask directories\n",
    "input_dir = r'E:\\car images\\AWSImages2\\test\\pics'\n",
    "output_dir = r'E:\\car images\\AWSImages2\\test\\finalds'\n",
    "mask_dir = r'E:\\car images\\AWSImages2\\test\\binaryimage'\n",
    "\n",
    "image_files = glob.glob(os.path.join(input_dir, '*'))\n",
    "\n",
    "for image_file in image_files:\n",
    "    # Read the image\n",
    "    original_image = cv2.imread(image_file)\n",
    "    \n",
    "    # Predict the mask using your model\n",
    "    results = model(original_image)\n",
    "    \n",
    "    # Check if results are None\n",
    "    if results is None:\n",
    "        print(f\"Skipping image {image_file} - Model prediction returned None.\")\n",
    "        continue\n",
    "    \n",
    "    # Extract mask from results\n",
    "    if len(results) > 0 and results[0].masks is not None and len(results[0].masks.data) > 0:\n",
    "        mask = results[0].masks.data[0].cpu().numpy() * 255  # Modify based on your model's output\n",
    "    else:\n",
    "        print(f\"Skipping image {image_file} - No valid mask found in results.\")\n",
    "        continue\n",
    "    \n",
    "    # Resize the mask to match the original image size\n",
    "    mask = cv2.resize(mask, (original_image.shape[1], original_image.shape[0]))\n",
    "\n",
    "    # Convert the mask to a binary mask (0 or 255 values)\n",
    "    _, binary_mask = cv2.threshold(mask, 1, 255, cv2.THRESH_BINARY)\n",
    "\n",
    "    # Calculate the area of the mask\n",
    "    area = np.sum(binary_mask > 0)\n",
    "\n",
    "    # Check if the area is greater than 30% of total pixels\n",
    "    total_pixels = original_image.shape[0] * original_image.shape[1]\n",
    "    if area <= total_pixels * 0.3:\n",
    "        print(f\"No car detected in image {image_file} or the area is not more than 30% of the total pixels. Skipping...\")\n",
    "        continue\n",
    "\n",
    "    # Make sure the data types are compatible\n",
    "    original_image = original_image.astype(np.uint8)\n",
    "    binary_mask = binary_mask.astype(np.uint8)\n",
    "\n",
    "    # Use the bitwise_and operation to apply the mask to the original image\n",
    "    result = cv2.bitwise_and(original_image, original_image, mask=binary_mask)\n",
    "\n",
    "    # Save the result in the output directory with the same filename\n",
    "    output_file = os.path.join(output_dir, os.path.basename(image_file))\n",
    "    cv2.imwrite(output_file, result)\n",
    "\n",
    "    # Save the mask in the mask directory with the same filename\n",
    "    mask_file = os.path.join(mask_dir, os.path.basename(image_file))\n",
    "    cv2.imwrite(mask_file, binary_mask)\n",
    "\n",
    "    print(f\"Processed and saved image: {image_file}\")\n",
    "\n",
    "print(\"Processing complete.\")"
   ]
  }
 ],
 "metadata": {
  "language_info": {
   "name": "python"
  }
 },
 "nbformat": 4,
 "nbformat_minor": 2
}
